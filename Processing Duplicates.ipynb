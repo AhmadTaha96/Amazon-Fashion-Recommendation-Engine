{
  "nbformat": 4,
  "nbformat_minor": 0,
  "metadata": {
    "colab": {
      "name": "Processing Duplicates.ipynb",
      "provenance": [],
      "collapsed_sections": [
        "6_tVzfpvzs8-",
        "2DR09sd-82o7"
      ],
      "authorship_tag": "ABX9TyNwfTW1rHaecPeocdnobSB6"
    },
    "kernelspec": {
      "name": "python3",
      "display_name": "Python 3"
    },
    "language_info": {
      "name": "python"
    }
  },
  "cells": [
    {
      "cell_type": "markdown",
      "metadata": {
        "id": "v1wvpHrI_Dis"
      },
      "source": [
        "### This is the Second Part of Exploratory Data Analysis (EDA) & Processing Data \n",
        "\n",
        "### Part 2 ==============================> Processing Duplicates"
      ]
    },
    {
      "cell_type": "markdown",
      "metadata": {
        "id": "6_tVzfpvzs8-"
      },
      "source": [
        "# Importing Libraries"
      ]
    },
    {
      "cell_type": "code",
      "metadata": {
        "id": "_0Ogvim6zvDz"
      },
      "source": [
        "import pandas as pd\n",
        "import numpy as np\n",
        "import matplotlib.pyplot as plt\n",
        "import os\n",
        "import shutil\n",
        "from difflib import SequenceMatcher"
      ],
      "execution_count": null,
      "outputs": []
    },
    {
      "cell_type": "markdown",
      "metadata": {
        "id": "2DR09sd-82o7"
      },
      "source": [
        "# Processing Duplicates"
      ]
    },
    {
      "cell_type": "markdown",
      "metadata": {
        "id": "OlkbYUPc_LrM"
      },
      "source": [
        "We should now remove duplicates from dataset as it would affect badly our work but why?\n",
        "\n",
        "Amazon may have for example 4 identical title more or less for the same item with 4 diffrent sizes so this would not give any information to us if we keep thoose 4 diffrent size items but with same title for that one is just enough, Not to mention that those products will be the most similar at our results if we keep them in the dataset, so removing them is a neccessary and critical step."
      ]
    },
    {
      "cell_type": "code",
      "metadata": {
        "id": "DbGvqdjMYYPu"
      },
      "source": [
        "data = pd.read_pickle(\"pickle_files/data\")"
      ],
      "execution_count": null,
      "outputs": []
    },
    {
      "cell_type": "code",
      "metadata": {
        "colab": {
          "base_uri": "https://localhost:8080/"
        },
        "id": "11tIvVnlxDP_",
        "outputId": "3b9bad5a-b3f8-4bcf-ff48-a0307bcc90f5"
      },
      "source": [
        "data.shape"
      ],
      "execution_count": null,
      "outputs": [
        {
          "data": {
            "text/plain": [
              "(182987, 5)"
            ]
          },
          "execution_count": 5,
          "metadata": {
            "tags": []
          },
          "output_type": "execute_result"
        }
      ]
    },
    {
      "cell_type": "code",
      "metadata": {
        "colab": {
          "base_uri": "https://localhost:8080/"
        },
        "id": "YuKXcaBHxJaE",
        "outputId": "edbb2e34-df40-4b00-c71f-6d3bcdd35353"
      },
      "source": [
        "data.columns"
      ],
      "execution_count": null,
      "outputs": [
        {
          "data": {
            "text/plain": [
              "Index(['asin', 'brand', 'large_image_url', 'product_type_name', 'title'], dtype='object')"
            ]
          },
          "execution_count": 36,
          "metadata": {
            "tags": []
          },
          "output_type": "execute_result"
        }
      ]
    },
    {
      "cell_type": "code",
      "metadata": {
        "id": "Sa5Dq_3IxEUr"
      },
      "source": [
        "# dropping just identical rows based on title column\n",
        "data.drop_duplicates(['title'] , inplace = True)"
      ],
      "execution_count": null,
      "outputs": []
    },
    {
      "cell_type": "code",
      "metadata": {
        "id": "BhLJK_-8xEc9"
      },
      "source": [
        "# removing rows with title less than 5 characters\n",
        "data = data[data.title.str.len() > 4]"
      ],
      "execution_count": null,
      "outputs": []
    },
    {
      "cell_type": "code",
      "metadata": {
        "colab": {
          "base_uri": "https://localhost:8080/"
        },
        "id": "04Fb_9JK1EdB",
        "outputId": "dc88e244-045b-43ba-8c7c-0939f72a5bc5"
      },
      "source": [
        "data.shape"
      ],
      "execution_count": null,
      "outputs": [
        {
          "data": {
            "text/plain": [
              "(175833, 5)"
            ]
          },
          "execution_count": 8,
          "metadata": {
            "tags": []
          },
          "output_type": "execute_result"
        }
      ]
    },
    {
      "cell_type": "code",
      "metadata": {
        "colab": {
          "base_uri": "https://localhost:8080/"
        },
        "id": "DDttw_XUBlTA",
        "outputId": "b00b71d9-9b71-4707-bf41-79d4c376209d"
      },
      "source": [
        "# Most frequent categories in product_type_name column\n",
        "data['product_type_name'].value_counts()"
      ],
      "execution_count": null,
      "outputs": [
        {
          "data": {
            "text/plain": [
              "SHIRT                      161660\n",
              "APPAREL                      3398\n",
              "BOOKS_1973_AND_LATER         2701\n",
              "DRESS                        1544\n",
              "SPORTING_GOODS               1241\n",
              "                            ...  \n",
              "JEWELRY                         1\n",
              "PROFESSIONAL_HEALTHCARE         1\n",
              "GOLF_CLUB                       1\n",
              "COMPUTER_COMPONENT              1\n",
              "BUILDING_MATERIAL               1\n",
              "Name: product_type_name, Length: 72, dtype: int64"
            ]
          },
          "execution_count": 9,
          "metadata": {
            "tags": []
          },
          "output_type": "execute_result"
        }
      ]
    },
    {
      "cell_type": "markdown",
      "metadata": {
        "id": "eAMQkMTaGIjy"
      },
      "source": [
        "We should combine SHIRT with SHIRTS and any other very similar categories if exist.\n",
        "\n",
        "Wrongly labeled types better to remove them than renaming them cause they are similar to other and very few."
      ]
    },
    {
      "cell_type": "code",
      "metadata": {
        "id": "zLcC545MFM8j"
      },
      "source": [
        "# Manually removing uneccessary cats from product_type_name column\n",
        "to_remove = ['MECHANICAL_COMPONENTS' , 'KITCHEN' , 'TOYS_AND_GAMES' , 'HOME_FURNITURE_AND_DECOR' , 'AUTO_PART' , 'TOOLS' , 'HOME_BED_AND_BATH' , \n",
        "'OFFICE_PRODUCTS', 'POWERSPORTS_VEHICLE_PART', 'BOOKS_1973_AND_LATER', 'INSTRUMENT_PARTS_AND_ACCESSORIES',\n",
        "'LUGGAGE', 'SAFETY_SUPPLY' , 'SEEDS_AND_PLANTS' , 'TABLET_COMPUTER' , 'COMPUTER_COMPONENT','CONSUMER_ELECTRONICS' ,'ABIS_DVD', \"NONAPPARELMISC\", 'BUILDING_MATERIAL', \n",
        "'PROFESSIONAL_HEALTHCARE', 'GUILD_ACCESSORIES', 'PET_SUPPLIES' , 'SOUND_AND_RECORDING_EQUIPMENT',\n",
        "'WIRELESS_ACCESSORY', 'VIDEO_DVD', 'GOLF_CLUB', 'POWERSPORTS_PROTECTIVE_GEAR','HEALTH_PERSONAL_CARE' , 'INSTRUMENT_PARTS_AND_ACCESSORIES ']\n",
        "\n",
        "for v in to_remove:\n",
        "  data = data[data['product_type_name'] !=  v]"
      ],
      "execution_count": null,
      "outputs": []
    },
    {
      "cell_type": "code",
      "metadata": {
        "id": "0HFZJmY1PhAg"
      },
      "source": [
        "# Mergin SHIRT cats with SHIRT\n",
        "data[data['product_type_name'] == 'SHIRTS'] = 'SHIRT'"
      ],
      "execution_count": null,
      "outputs": []
    },
    {
      "cell_type": "markdown",
      "metadata": {
        "id": "_XS4XdsQai4c"
      },
      "source": [
        "Now after merging and cleaning let's check most frequent categoires in product_type_name column which is really important feature to us."
      ]
    },
    {
      "cell_type": "code",
      "metadata": {
        "colab": {
          "base_uri": "https://localhost:8080/"
        },
        "id": "W8Om54BlGtFZ",
        "outputId": "503c4225-7b71-42b2-f339-c83bd34191c3"
      },
      "source": [
        "print(data['product_type_name'].value_counts())"
      ],
      "execution_count": null,
      "outputs": [
        {
          "name": "stdout",
          "output_type": "stream",
          "text": [
            "SHIRT                         161664\n",
            "APPAREL                         3398\n",
            "DRESS                           1544\n",
            "SPORTING_GOODS                  1241\n",
            "SWEATER                          780\n",
            "OUTERWEAR                        766\n",
            "OUTDOOR_RECREATION_PRODUCT       704\n",
            "ACCESSORY                        612\n",
            "UNDERWEAR                        421\n",
            "PANTS                            357\n",
            "ORCA_SHIRT                       265\n",
            "BLAZER                           246\n",
            "SHOES                            195\n",
            "SLEEPWEAR                        142\n",
            "SKIRT                            105\n",
            "BRA                               93\n",
            "MISC_OTHER                        42\n",
            "SWIMWEAR                          40\n",
            "AUTO_ACCESSORY                    40\n",
            "HOME                              34\n",
            "ADULT_COSTUME                     24\n",
            "BEAUTY                            21\n",
            "HANDBAG                           21\n",
            "HAT                               18\n",
            "ART_SUPPLIES                      17\n",
            "ETHNIC_WEAR                       17\n",
            "SHORTS                            14\n",
            "SOCKSHOSIERY                      14\n",
            "SUIT                               8\n",
            "OUTDOOR_LIVING                     6\n",
            "ABIS_APPAREL                       3\n",
            "BABY_PRODUCT                       3\n",
            "HARDWARE                           3\n",
            "BABY_COSTUME                       2\n",
            "BAG                                2\n",
            "POWERSPORTS_RIDING_JACKET          2\n",
            "MUSIC_POPULAR_VINYL                1\n",
            "ART_AND_CRAFT_SUPPLY               1\n",
            "JEWELRY                            1\n",
            "ABIS_SPORTS                        1\n",
            "EYEWEAR                            1\n",
            "POWERSPORTS_RIDING_SHIRT           1\n",
            "Name: product_type_name, dtype: int64\n"
          ]
        }
      ]
    },
    {
      "cell_type": "code",
      "metadata": {
        "colab": {
          "base_uri": "https://localhost:8080/"
        },
        "id": "pVw1ghEjHLLL",
        "outputId": "21c3bc69-80fb-4cac-c271-179c0e4f732b"
      },
      "source": [
        "data.shape"
      ],
      "execution_count": null,
      "outputs": [
        {
          "data": {
            "text/plain": [
              "(172870, 5)"
            ]
          },
          "execution_count": 39,
          "metadata": {
            "tags": []
          },
          "output_type": "execute_result"
        }
      ]
    },
    {
      "cell_type": "code",
      "metadata": {
        "id": "wkjcln_cQHBB"
      },
      "source": [
        "# Saving data at this stage\n",
        "data.to_pickle('/content/drive/MyDrive/pickle_data2')"
      ],
      "execution_count": null,
      "outputs": []
    },
    {
      "cell_type": "markdown",
      "metadata": {
        "id": "SGppRecFE2Mb"
      },
      "source": [
        "we should deal with rare values as it's cause overfitting espically in Trees classifer"
      ]
    },
    {
      "cell_type": "code",
      "metadata": {
        "id": "oNCwE7dnYmbw"
      },
      "source": [
        "# data = pd.read_pickle('pickle_data2')"
      ],
      "execution_count": null,
      "outputs": []
    },
    {
      "cell_type": "code",
      "metadata": {
        "id": "HXL6NZoPTq1R"
      },
      "source": [
        "# Sorting data by title so it's faster to compare each successive two rows togeather\n",
        "data.sort_values(by = ['title'] , ascending = False , inplace = True)"
      ],
      "execution_count": null,
      "outputs": []
    },
    {
      "cell_type": "markdown",
      "metadata": {
        "id": "50nWQI4DzKlZ"
      },
      "source": [
        "Please Note that the below code would take very long to finish cleaning data as it use SequenceMatcher function to get the best result."
      ]
    },
    {
      "cell_type": "code",
      "metadata": {
        "id": "mqckg3LxxEtG"
      },
      "source": [
        "# Naive script to compare each two rows togeather, Would take a lot of time but it give an accurate results\n",
        "# I choose the threshold here to be 0.80, this could change as a hyperparameter \n",
        "# If increase this threshold this would mean more accuray of results but less rows to keep\n",
        "# If decrease this threshold this would mean more rows to keep but less accuracy of results\n",
        "\n",
        "# The code goes as follow\n",
        "\n",
        "# Step 1 if the difference in number of words between two rows is more than 3 then go step 5\n",
        "# Step 2 if the difference in number of words between two rows is 3 or less then compare the last 3 words\n",
        "# Step 4 if those words identical then flag those rows as duplicate and remove the second one and repeat\n",
        "# Step 5 if none of above is True then use [Sequence Matcher] alogrithm to get the ratio of similarity between those rows\n",
        "# Step 6 if ratio is more than 0.80 (similar with 80% of certintiy level) go to step 4\n",
        "# Step 7 if ratio is less or equal to 0.80 then repeat\n",
        "\n",
        "title = np.array(data['title'].values)\n",
        "d = set()\n",
        " \n",
        "for i in range(0 , len(title):\n",
        " \n",
        "    if i in d:\n",
        "      continue\n",
        "      \n",
        "    s1 = title[i]\n",
        "    ss1 = s1.split()\n",
        "    l1 = len(ss1)\n",
        " \n",
        "    for j in range(i + 1 , len(title) , 1):\n",
        " \n",
        "      if j in d:\n",
        "        continue\n",
        "      \n",
        "      s2 = title[j]\n",
        "      ss2 = s2.split()\n",
        "      l2 = len(ss2)\n",
        "      \n",
        "      if(abs(l1 - l2) > 3):\n",
        "        continue\n",
        " \n",
        "      if ss1[:-2] == ss2[:-2]:\n",
        "       d.add(j)\n",
        " \n",
        "      elif ( (SequenceMatcher(a = s1 , b = s2).ratio()) > 0.80):\n",
        "        d.add(j)"
      ],
      "execution_count": null,
      "outputs": []
    },
    {
      "cell_type": "code",
      "metadata": {
        "id": "WXYVWTqCSAZr"
      },
      "source": [
        "# droping results indices\n",
        "data.drop(data.index[dd], axis = 0 , inplace = True)"
      ],
      "execution_count": null,
      "outputs": []
    },
    {
      "cell_type": "code",
      "metadata": {
        "id": "n5C02V5CU5Oz"
      },
      "source": [
        "data.to_pickle('pickle_data2')"
      ],
      "execution_count": null,
      "outputs": []
    },
    {
      "cell_type": "code",
      "metadata": {
        "colab": {
          "base_uri": "https://localhost:8080/"
        },
        "id": "Bs9pJhOrzVWk",
        "outputId": "96ae4bee-dcff-4e45-ff6c-95ddb1d5435f"
      },
      "source": [
        "# data = pd.read_pickle('pickle_data2')\n",
        "data.shape"
      ],
      "execution_count": null,
      "outputs": [
        {
          "data": {
            "text/plain": [
              "(116000, 5)"
            ]
          },
          "execution_count": 2,
          "metadata": {},
          "output_type": "execute_result"
        }
      ]
    },
    {
      "cell_type": "code",
      "metadata": {
        "colab": {
          "base_uri": "https://localhost:8080/",
          "height": 289
        },
        "id": "7tYwtEHKzwyl",
        "outputId": "45c7d192-4bee-4a82-a65e-f01694ac41f3"
      },
      "source": [
        "data.head()"
      ],
      "execution_count": null,
      "outputs": [
        {
          "data": {
            "text/html": [
              "<div>\n",
              "<style scoped>\n",
              "    .dataframe tbody tr th:only-of-type {\n",
              "        vertical-align: middle;\n",
              "    }\n",
              "\n",
              "    .dataframe tbody tr th {\n",
              "        vertical-align: top;\n",
              "    }\n",
              "\n",
              "    .dataframe thead th {\n",
              "        text-align: right;\n",
              "    }\n",
              "</style>\n",
              "<table border=\"1\" class=\"dataframe\">\n",
              "  <thead>\n",
              "    <tr style=\"text-align: right;\">\n",
              "      <th></th>\n",
              "      <th>asin</th>\n",
              "      <th>brand</th>\n",
              "      <th>large_image_url</th>\n",
              "      <th>product_type_name</th>\n",
              "      <th>title</th>\n",
              "    </tr>\n",
              "  </thead>\n",
              "  <tbody>\n",
              "    <tr>\n",
              "      <th>51094</th>\n",
              "      <td>B01D0ZY642</td>\n",
              "      <td>RB Clothing Co</td>\n",
              "      <td>https://images-na.ssl-images-amazon.com/images...</td>\n",
              "      <td>SHIRT</td>\n",
              "      <td>Womens Funny Racerback Tank Top “Training To B...</td>\n",
              "    </tr>\n",
              "    <tr>\n",
              "      <th>26784</th>\n",
              "      <td>B074MNBQDP</td>\n",
              "      <td>Antilia Femme</td>\n",
              "      <td>https://images-na.ssl-images-amazon.com/images...</td>\n",
              "      <td>SHIRT</td>\n",
              "      <td>Antilia Femme Tie Front Floral Blouse</td>\n",
              "    </tr>\n",
              "    <tr>\n",
              "      <th>152339</th>\n",
              "      <td>B017UVFKSS</td>\n",
              "      <td>Bubble B</td>\n",
              "      <td>https://images-na.ssl-images-amazon.com/images...</td>\n",
              "      <td>SHIRT</td>\n",
              "      <td>Bubble B's two piece like top</td>\n",
              "    </tr>\n",
              "    <tr>\n",
              "      <th>151647</th>\n",
              "      <td>B01LXNXM57</td>\n",
              "      <td>FACE N FACE</td>\n",
              "      <td>https://images-na.ssl-images-amazon.com/images...</td>\n",
              "      <td>SHIRT</td>\n",
              "      <td>Face N Face Women's Autumn Hooded Letter Print...</td>\n",
              "    </tr>\n",
              "    <tr>\n",
              "      <th>3811</th>\n",
              "      <td>B0742ZCT7T</td>\n",
              "      <td>ASSKDAN Women's Casual Short Sleeves Top Cold ...</td>\n",
              "      <td>https://images-na.ssl-images-amazon.com/images...</td>\n",
              "      <td>SHIRT</td>\n",
              "      <td>ASSKDAN Women's Casual Short Sleeves Top Cold ...</td>\n",
              "    </tr>\n",
              "  </tbody>\n",
              "</table>\n",
              "</div>"
            ],
            "text/plain": [
              "              asin  ...                                              title\n",
              "51094   B01D0ZY642  ...  Womens Funny Racerback Tank Top “Training To B...\n",
              "26784   B074MNBQDP  ...              Antilia Femme Tie Front Floral Blouse\n",
              "152339  B017UVFKSS  ...                      Bubble B's two piece like top\n",
              "151647  B01LXNXM57  ...  Face N Face Women's Autumn Hooded Letter Print...\n",
              "3811    B0742ZCT7T  ...  ASSKDAN Women's Casual Short Sleeves Top Cold ...\n",
              "\n",
              "[5 rows x 5 columns]"
            ]
          },
          "execution_count": 4,
          "metadata": {},
          "output_type": "execute_result"
        }
      ]
    }
  ]
}