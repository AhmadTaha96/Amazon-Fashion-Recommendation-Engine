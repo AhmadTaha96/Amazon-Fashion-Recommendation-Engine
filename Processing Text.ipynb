{
  "nbformat": 4,
  "nbformat_minor": 0,
  "metadata": {
    "colab": {
      "name": "Processing Text.ipynb",
      "provenance": [],
      "collapsed_sections": [
        "6_tVzfpvzs8-",
        "mySsSy9E46ox"
      ],
      "authorship_tag": "ABX9TyN/S18GGaeboc+eedswbdVe"
    },
    "kernelspec": {
      "name": "python3",
      "display_name": "Python 3"
    },
    "language_info": {
      "name": "python"
    }
  },
  "cells": [
    {
      "cell_type": "markdown",
      "metadata": {
        "id": "v1wvpHrI_Dis"
      },
      "source": [
        "### This is the Third Part of Exploratory Data Analysis (EDA) & Processing Data \n",
        "\n",
        "### Part 3 ==============================> Processing Text"
      ]
    },
    {
      "cell_type": "markdown",
      "metadata": {
        "id": "6_tVzfpvzs8-"
      },
      "source": [
        "# Importing Libraries"
      ]
    },
    {
      "cell_type": "code",
      "metadata": {
        "id": "_0Ogvim6zvDz"
      },
      "source": [
        "import pandas as pd\n",
        "import numpy as np\n",
        "import matplotlib.pyplot as plt\n",
        "import os\n",
        "import shutil\n",
        "import nltk\n",
        "from nltk.corpus import stopwords"
      ],
      "execution_count": null,
      "outputs": []
    },
    {
      "cell_type": "markdown",
      "metadata": {
        "id": "mySsSy9E46ox"
      },
      "source": [
        "# Processing Text"
      ]
    },
    {
      "cell_type": "code",
      "metadata": {
        "id": "7i_LCuYQMJmv"
      },
      "source": [
        "data = pd.read_pickle(\"pickle_data2\")"
      ],
      "execution_count": null,
      "outputs": []
    },
    {
      "cell_type": "markdown",
      "metadata": {
        "id": "yoVzAaat0td6"
      },
      "source": [
        "Now it's time for text preprcoessing, and at first we shall remove stop words from each row of title column."
      ]
    },
    {
      "cell_type": "code",
      "metadata": {
        "colab": {
          "base_uri": "https://localhost:8080/"
        },
        "id": "dWTx3zuC4SL7",
        "outputId": "4b9a82b5-14e9-4f98-dfb4-e58a9f2ff2af"
      },
      "source": [
        "# downloading stopwords through nltk library\n",
        "nltk.download('stopwords')"
      ],
      "execution_count": null,
      "outputs": [
        {
          "name": "stdout",
          "output_type": "stream",
          "text": [
            "[nltk_data] Downloading package stopwords to /root/nltk_data...\n",
            "[nltk_data]   Unzipping corpora/stopwords.zip.\n"
          ]
        },
        {
          "data": {
            "text/plain": [
              "True"
            ]
          },
          "execution_count": 5,
          "metadata": {},
          "output_type": "execute_result"
        }
      ]
    },
    {
      "cell_type": "code",
      "metadata": {
        "id": "tZhOtJtc5HIn"
      },
      "source": [
        "stopwords = set(stopwords.words('english'))"
      ],
      "execution_count": null,
      "outputs": []
    },
    {
      "cell_type": "code",
      "metadata": {
        "colab": {
          "base_uri": "https://localhost:8080/"
        },
        "id": "foLzD1Z75NsR",
        "outputId": "53362fbc-471e-4238-8249-62174ffc4016"
      },
      "source": [
        "print(stopwords)"
      ],
      "execution_count": null,
      "outputs": [
        {
          "name": "stdout",
          "output_type": "stream",
          "text": [
            "{\"needn't\", 'will', 'why', 'with', 'until', 'once', 'both', 'but', 'its', 'nor', 'her', 'if', 'his', 'more', 'y', 'so', 'hasn', 'my', \"hadn't\", \"it's\", 'through', 'are', 'we', 'o', 'this', 'while', \"you'd\", 'where', 'were', 'there', \"shan't\", 'doing', 'shouldn', 'each', 'or', 'own', 'after', 'and', 'not', 'mightn', 'to', \"didn't\", 'during', \"don't\", 'yourself', \"doesn't\", 'doesn', 'what', 'be', \"that'll\", \"shouldn't\", 'at', 'other', 'ma', 'itself', 'd', \"aren't\", 'is', 'mustn', 'ain', 'don', 'does', \"hasn't\", \"mustn't\", 'those', 'have', 'you', 'been', 'didn', 'most', 'off', 're', \"wasn't\", 'an', 'm', 'out', 'it', 'had', 'was', 'below', 'has', 'he', 'into', 'herself', 'me', 'myself', 'i', 'further', \"weren't\", 'they', 'these', 'down', 'same', 'being', 'than', 'hers', 'on', 'yourselves', 'weren', 'above', 'now', 've', 'the', 'shan', 'ourselves', 'your', 'again', 'wouldn', 'am', 'such', \"couldn't\", 'needn', 'can', 'them', 'up', 'a', \"mightn't\", 'who', 'do', 'isn', 'yours', 'under', 'how', 'should', 'did', 'few', 'haven', 'over', 'having', 'hadn', 'll', 'himself', 'won', \"she's\", 'between', 'here', 'of', 'aren', \"won't\", \"isn't\", 'as', 'ours', 'only', 'about', 'their', 'which', \"you're\", 's', 'from', 'because', 'she', \"you'll\", 'our', 'themselves', 'him', 'some', 'just', 'before', 'in', \"should've\", 'for', 'all', 'that', 'then', 'wasn', 'couldn', 'any', \"wouldn't\", 'against', 'no', 'very', \"haven't\", \"you've\", 'whom', 't', 'too', 'theirs', 'by', 'when'}\n"
          ]
        }
      ]
    },
    {
      "cell_type": "code",
      "metadata": {
        "id": "1BkuzipP5P0v"
      },
      "source": [
        "# This code below will keep only letter and numbers from the string and discard the rest of characters\n",
        "\n",
        "def title_processing(title, index):\n",
        "  \n",
        "  s = \"\"\n",
        "  \n",
        "  for word in title.split():\n",
        "    \n",
        "    word = \"\".join(letter for letter in word if (letter.isalnum()))\n",
        "    \n",
        "    if word not in stopwords:\n",
        "      s += word.lower() + \" \"\n",
        "    \n",
        "    data['title'][index] = s"
      ],
      "execution_count": null,
      "outputs": []
    },
    {
      "cell_type": "code",
      "metadata": {
        "colab": {
          "background_save": true
        },
        "id": "H4IrpfFB6Gzx"
      },
      "source": [
        "# applying title_processing function to each row in title column in dataframe\n",
        "for index, row in data.iterrows():\n",
        "  title_processing(row['title'], index)"
      ],
      "execution_count": null,
      "outputs": []
    },
    {
      "cell_type": "code",
      "metadata": {
        "colab": {
          "base_uri": "https://localhost:8080/",
          "height": 289
        },
        "id": "5x2-s7EjA7bj",
        "outputId": "11f63390-880c-4f2c-b02b-ccd5d78272c6"
      },
      "source": [
        "data.head()"
      ],
      "execution_count": null,
      "outputs": [
        {
          "data": {
            "text/html": [
              "<div>\n",
              "<style scoped>\n",
              "    .dataframe tbody tr th:only-of-type {\n",
              "        vertical-align: middle;\n",
              "    }\n",
              "\n",
              "    .dataframe tbody tr th {\n",
              "        vertical-align: top;\n",
              "    }\n",
              "\n",
              "    .dataframe thead th {\n",
              "        text-align: right;\n",
              "    }\n",
              "</style>\n",
              "<table border=\"1\" class=\"dataframe\">\n",
              "  <thead>\n",
              "    <tr style=\"text-align: right;\">\n",
              "      <th></th>\n",
              "      <th>asin</th>\n",
              "      <th>brand</th>\n",
              "      <th>large_image_url</th>\n",
              "      <th>product_type_name</th>\n",
              "      <th>title</th>\n",
              "    </tr>\n",
              "  </thead>\n",
              "  <tbody>\n",
              "    <tr>\n",
              "      <th>51094</th>\n",
              "      <td>B01D0ZY642</td>\n",
              "      <td>RB Clothing Co</td>\n",
              "      <td>https://images-na.ssl-images-amazon.com/images...</td>\n",
              "      <td>SHIRT</td>\n",
              "      <td>womens funny racerback tank top training to be...</td>\n",
              "    </tr>\n",
              "    <tr>\n",
              "      <th>26784</th>\n",
              "      <td>B074MNBQDP</td>\n",
              "      <td>Antilia Femme</td>\n",
              "      <td>https://images-na.ssl-images-amazon.com/images...</td>\n",
              "      <td>SHIRT</td>\n",
              "      <td>antilia femme tie front floral blouse</td>\n",
              "    </tr>\n",
              "    <tr>\n",
              "      <th>152339</th>\n",
              "      <td>B017UVFKSS</td>\n",
              "      <td>Bubble B</td>\n",
              "      <td>https://images-na.ssl-images-amazon.com/images...</td>\n",
              "      <td>SHIRT</td>\n",
              "      <td>bubble bs two piece like top</td>\n",
              "    </tr>\n",
              "    <tr>\n",
              "      <th>151647</th>\n",
              "      <td>B01LXNXM57</td>\n",
              "      <td>FACE N FACE</td>\n",
              "      <td>https://images-na.ssl-images-amazon.com/images...</td>\n",
              "      <td>SHIRT</td>\n",
              "      <td>face n face womens autumn hooded letter printi...</td>\n",
              "    </tr>\n",
              "    <tr>\n",
              "      <th>3811</th>\n",
              "      <td>B0742ZCT7T</td>\n",
              "      <td>ASSKDAN Women's Casual Short Sleeves Top Cold ...</td>\n",
              "      <td>https://images-na.ssl-images-amazon.com/images...</td>\n",
              "      <td>SHIRT</td>\n",
              "      <td>asskdan womens casual short sleeves top cold s...</td>\n",
              "    </tr>\n",
              "  </tbody>\n",
              "</table>\n",
              "</div>"
            ],
            "text/plain": [
              "              asin  ...                                              title\n",
              "51094   B01D0ZY642  ...  womens funny racerback tank top training to be...\n",
              "26784   B074MNBQDP  ...             antilia femme tie front floral blouse \n",
              "152339  B017UVFKSS  ...                      bubble bs two piece like top \n",
              "151647  B01LXNXM57  ...  face n face womens autumn hooded letter printi...\n",
              "3811    B0742ZCT7T  ...  asskdan womens casual short sleeves top cold s...\n",
              "\n",
              "[5 rows x 5 columns]"
            ]
          },
          "execution_count": 43,
          "metadata": {},
          "output_type": "execute_result"
        }
      ]
    },
    {
      "cell_type": "code",
      "metadata": {
        "id": "MLrz-5ymEeCu"
      },
      "source": [
        "# storing the data so we can use it later\n",
        "data.to_pickle('pickle_data3')"
      ],
      "execution_count": null,
      "outputs": []
    },
    {
      "cell_type": "code",
      "metadata": {
        "id": "Etj1MN5_M7ic"
      },
      "source": [
        "# data = pd.read_pickle(\"pickle_data3\")"
      ],
      "execution_count": null,
      "outputs": []
    }
  ]
}