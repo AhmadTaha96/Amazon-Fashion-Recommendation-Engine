{
  "nbformat": 4,
  "nbformat_minor": 0,
  "metadata": {
    "colab": {
      "name": "Processing Missing Values.ipynb",
      "provenance": [],
      "collapsed_sections": [
        "6_tVzfpvzs8-",
        "SKYcu7r0kpVS"
      ],
      "mount_file_id": "1HUMRZVj8oeSjv8LsvODKjV7k7PyH7ufA",
      "authorship_tag": "ABX9TyPlYtS8QOQYdBDILcgKgEEz"
    },
    "kernelspec": {
      "name": "python3",
      "display_name": "Python 3"
    },
    "language_info": {
      "name": "python"
    }
  },
  "cells": [
    {
      "cell_type": "markdown",
      "metadata": {
        "id": "v1wvpHrI_Dis"
      },
      "source": [
        "### This is the first Part of Exploratory Data Analysis (EDA) & Processing Data \n",
        "\n",
        "### Part 1 ==============================> Processing Missing Values"
      ]
    },
    {
      "cell_type": "markdown",
      "metadata": {
        "id": "6_tVzfpvzs8-"
      },
      "source": [
        "# Importing Libraries"
      ]
    },
    {
      "cell_type": "code",
      "metadata": {
        "id": "_0Ogvim6zvDz"
      },
      "source": [
        "import pandas as pd\n",
        "import numpy as np\n",
        "import matplotlib.pyplot as plt\n",
        "import requests\n",
        "import os\n",
        "import shutil"
      ],
      "execution_count": 2,
      "outputs": []
    },
    {
      "cell_type": "markdown",
      "metadata": {
        "id": "SKYcu7r0kpVS"
      },
      "source": [
        "# Processing missing values"
      ]
    },
    {
      "cell_type": "markdown",
      "metadata": {
        "id": "k4m0Bju6k1cg"
      },
      "source": [
        "We shall check for missing values in every features we have, it's really an important task to do because as i have stated earlier there is a lot of missing values and just None value inside each feature."
      ]
    },
    {
      "cell_type": "code",
      "metadata": {
        "id": "zh6r8VUyPGQ0"
      },
      "source": [
        "data = pd.read_pickle(\"pickle_files/data\")"
      ],
      "execution_count": 9,
      "outputs": []
    },
    {
      "cell_type": "code",
      "metadata": {
        "id": "f1fEJX7Gkr2h"
      },
      "source": [
        "features = data.columns"
      ],
      "execution_count": null,
      "outputs": []
    },
    {
      "cell_type": "code",
      "metadata": {
        "colab": {
          "base_uri": "https://localhost:8080/"
        },
        "id": "S6fZzbK5k-px",
        "outputId": "0d27004c-3228-41c0-bce0-9e8873abcb69"
      },
      "source": [
        "for f in features:\n",
        "  print(\"Number of missing values in\" , f , \"=\" , data[f].isnull().sum())"
      ],
      "execution_count": null,
      "outputs": [
        {
          "name": "stdout",
          "output_type": "stream",
          "text": [
            "Number of missing values in asin = 0\n",
            "Number of missing values in brand = 151\n",
            "Number of missing values in color = 118182\n",
            "Number of missing values in large_image_url = 0\n",
            "Number of missing values in product_type_name = 0\n",
            "Number of missing values in title = 0\n",
            "Number of missing values in formatted_price = 154743\n",
            "Number of missing values in manufacturer = 140239\n"
          ]
        }
      ]
    },
    {
      "cell_type": "markdown",
      "metadata": {
        "id": "qw0yneMvlZWJ"
      },
      "source": [
        "It's clear that the most columns with missing values is color, formatted_price, and manufacter with about 118K, 154K and 140K respectievly which is really large number.\n",
        "\n",
        "Now let's see the percentage of missing values out of each column we have."
      ]
    },
    {
      "cell_type": "code",
      "metadata": {
        "colab": {
          "base_uri": "https://localhost:8080/"
        },
        "id": "29mhA2U4l7A-",
        "outputId": "0541fe58-d1c6-4837-807c-709c9487d8a9"
      },
      "source": [
        "for f in features:\n",
        "  print(\"Percentage of missing values in\" , f , \"=\" , (data[f].isnull().sum() / data.shape[0]) * 100 , \"%\")"
      ],
      "execution_count": null,
      "outputs": [
        {
          "name": "stdout",
          "output_type": "stream",
          "text": [
            "Percentage of missing values in asin = 0.0 %\n",
            "Percentage of missing values in brand = 0.08245148467276044 %\n",
            "Percentage of missing values in color = 64.53166464633227 %\n",
            "Percentage of missing values in large_image_url = 0.0 %\n",
            "Percentage of missing values in product_type_name = 0.0 %\n",
            "Percentage of missing values in title = 0.0 %\n",
            "Percentage of missing values in formatted_price = 84.49529862726467 %\n",
            "Percentage of missing values in manufacturer = 76.57558780810099 %\n"
          ]
        }
      ]
    },
    {
      "cell_type": "markdown",
      "metadata": {
        "id": "RsZ1CeHymII2"
      },
      "source": [
        "Almost all values of color, price, and manufacter are missing and this may cause a problem, for that we have two choices to deal wtih this issue, either remove all rows with null values or try to analysis the data we have in order to conlude why there is a lot of missing values and then try to impute missing data or remove them based on the results we shall find out later on.\n",
        "\n",
        "for the brand less than 1% of value is missing (151) values so we can easily remove those rows from the dataset."
      ]
    },
    {
      "cell_type": "markdown",
      "metadata": {
        "id": "pd6XRdKVm1xB"
      },
      "source": [
        "But before we decide, let's explore the nature of each feature we have for the sake of better conclusion."
      ]
    },
    {
      "cell_type": "markdown",
      "metadata": {
        "id": "Loyaz281oXd7"
      },
      "source": [
        "For the asin features it's obvious that it's should be unique for each row because it's the ID so there should be no two rows with an identical id number and this would be generated automatically so there will be zero chance for this column to have Null of absence values in it."
      ]
    },
    {
      "cell_type": "markdown",
      "metadata": {
        "id": "Ir9xCei4E5UQ"
      },
      "source": [
        "Now i will spot on the count of available rows in each feature, the number of unique value in it, the most frequent value and it's frequency."
      ]
    },
    {
      "cell_type": "code",
      "metadata": {
        "colab": {
          "base_uri": "https://localhost:8080/"
        },
        "id": "2bgWrFG-oKyt",
        "outputId": "f47415ca-16f5-4f6f-e1d0-7f8b10b7653b"
      },
      "source": [
        "data['brand'].describe()"
      ],
      "execution_count": null,
      "outputs": [
        {
          "data": {
            "text/plain": [
              "count     182987\n",
              "unique     10577\n",
              "top         Zago\n",
              "freq         223\n",
              "Name: brand, dtype: object"
            ]
          },
          "execution_count": 7,
          "metadata": {
            "tags": []
          },
          "output_type": "execute_result"
        }
      ]
    },
    {
      "cell_type": "code",
      "metadata": {
        "colab": {
          "base_uri": "https://localhost:8080/"
        },
        "id": "65aBqt4Zosu0",
        "outputId": "7126a523-9cef-4619-b74b-b46ad4324ecf"
      },
      "source": [
        "data['color'].describe()"
      ],
      "execution_count": null,
      "outputs": [
        {
          "data": {
            "text/plain": [
              "count     64956\n",
              "unique     7380\n",
              "top       Black\n",
              "freq      13207\n",
              "Name: color, dtype: object"
            ]
          },
          "execution_count": 8,
          "metadata": {
            "tags": []
          },
          "output_type": "execute_result"
        }
      ]
    },
    {
      "cell_type": "code",
      "metadata": {
        "colab": {
          "base_uri": "https://localhost:8080/"
        },
        "id": "jvi_VOV5os8a",
        "outputId": "84d14b82-edbc-4998-ae22-d1b1944efe44"
      },
      "source": [
        "data['title'].describe()"
      ],
      "execution_count": null,
      "outputs": [
        {
          "data": {
            "text/plain": [
              "count                                                183138\n",
              "unique                                               175985\n",
              "top       Nakoda Cotton Self Print Straight Kurti For Women\n",
              "freq                                                     77\n",
              "Name: title, dtype: object"
            ]
          },
          "execution_count": 9,
          "metadata": {
            "tags": []
          },
          "output_type": "execute_result"
        }
      ]
    },
    {
      "cell_type": "code",
      "metadata": {
        "colab": {
          "base_uri": "https://localhost:8080/"
        },
        "id": "EeCvyKiIotQ5",
        "outputId": "b8fe9345-5429-4dbc-9eea-60835edc8308"
      },
      "source": [
        "data['manufacturer'].describe()"
      ],
      "execution_count": null,
      "outputs": [
        {
          "data": {
            "text/plain": [
              "count         42899\n",
              "unique         3872\n",
              "top       Fifth Sun\n",
              "freq            261\n",
              "Name: manufacturer, dtype: object"
            ]
          },
          "execution_count": 10,
          "metadata": {
            "tags": []
          },
          "output_type": "execute_result"
        }
      ]
    },
    {
      "cell_type": "code",
      "metadata": {
        "colab": {
          "base_uri": "https://localhost:8080/"
        },
        "id": "41C-ppwBo3Om",
        "outputId": "6616d127-710c-4c5c-9b95-c6fe5b78470a"
      },
      "source": [
        "data['product_type_name'].describe()"
      ],
      "execution_count": null,
      "outputs": [
        {
          "data": {
            "text/plain": [
              "count     183138\n",
              "unique        72\n",
              "top        SHIRT\n",
              "freq      167794\n",
              "Name: product_type_name, dtype: object"
            ]
          },
          "execution_count": 11,
          "metadata": {
            "tags": []
          },
          "output_type": "execute_result"
        }
      ]
    },
    {
      "cell_type": "markdown",
      "metadata": {
        "id": "cv_A8A1Aoqcy"
      },
      "source": [
        "Now from the above outputs we can conclude that we have a high cardinality features which is brand as it contain a lot of diffrent categories, this may cause a problem later specially if we decide to use Trees classifer it might led those classifer to overfit.\n",
        "\n",
        "For the color feature it's also high cardinal feature although it contain less categories than brand but that due to the fact that almost 64.5% is just null values so we can consider it also a high cardinal feature.\n",
        "\n",
        "The title is the most informative feature, it contain a lot of predicitve power and it should be unique of all rows but from the above maybe there is about 8K duplicated rows, we shall deal with them later.\n",
        "\n",
        "Manufacter feature is similar to color but it contain less categories, mostly i will drop this feature from the processing.\n",
        "\n",
        "formatted_price feature is mixed feature because it is between number and category feature so dealing with this kind of feature would be diffrent not to mention that almost 84.5% of it is missing so it's not available for all observations we have.\n",
        "\n",
        "Finally product_type_name which is the type of the product it contain small number of categories comparing to other features, furthermore we have some uncessary of mistakenly categories here we don't want which make number of categories in it even less, this king of features is good if we decide to gather products based on it using for examply clustering.\n"
      ]
    },
    {
      "cell_type": "code",
      "metadata": {
        "colab": {
          "base_uri": "https://localhost:8080/"
        },
        "id": "_yyujOG2rhyl",
        "outputId": "e8ee27d0-b293-4611-9899-0f85161653e7"
      },
      "source": [
        "# Cheking categories in product_type_name column\n",
        "plt.figure(figsize = (10 , 8))\n",
        "pd.Series(data['product_type_name']).value_counts()[:10].plot(kind = \"bar\")\n",
        "plt.show()"
      ],
      "execution_count": null,
      "outputs": [
        {
          "data": {
            "image/png": "[encoded data removed]",
            "text/plain": [
              "<Figure size 720x576 with 1 Axes>"
            ]
          },
          "metadata": {
            "tags": []
          },
          "output_type": "display_data"
        }
      ]
    },
    {
      "cell_type": "markdown",
      "metadata": {
        "id": "2_XaUqHeIYYu"
      },
      "source": [
        "By far the most frequent one category we have is SHIRT, the other categories is far less frequent which may be good for us if we consider taking distance or similarity between products rather than using each feature as predictor of bunch of them togeather."
      ]
    },
    {
      "cell_type": "markdown",
      "metadata": {
        "id": "erujzyYWwfxO"
      },
      "source": [
        "Now we will make some analysis over our three major missing values features which is color , price and manufacter in order to make some sense out of it if that's possible\n",
        "\n",
        "But first let's try to understand why there are missing values here, we can classify missing values in 3 categories:\n",
        "\n",
        "1. Misisng value completely at random (MCAR).\n",
        "\n",
        "2. Missing value at random (MAR).\n",
        "\n",
        "3. Missing value not at random (MNAR).\n",
        "\n",
        "For each type of them there is a way of preocessing if we choose not to remove them but to process them in separate way."
      ]
    },
    {
      "cell_type": "code",
      "metadata": {
        "colab": {
          "base_uri": "https://localhost:8080/"
        },
        "id": "KIDZQK9DxoTt",
        "outputId": "b80e6cfc-5b2f-4211-bf27-f9aa81dccfc8"
      },
      "source": [
        "data[data['color'].isnull()][data['manufacturer'].isnull()][data['formatted_price'].isnull()].head()"
      ],
      "execution_count": null,
      "outputs": [
        {
          "name": "stderr",
          "output_type": "stream",
          "text": [
            "/usr/local/lib/python3.7/dist-packages/ipykernel_launcher.py:1: UserWarning: Boolean Series key will be reindexed to match DataFrame index.\n",
            "  \"\"\"Entry point for launching an IPython kernel.\n"
          ]
        },
        {
          "data": {
            "text/html": [
              "<div>\n",
              "<style scoped>\n",
              "    .dataframe tbody tr th:only-of-type {\n",
              "        vertical-align: middle;\n",
              "    }\n",
              "\n",
              "    .dataframe tbody tr th {\n",
              "        vertical-align: top;\n",
              "    }\n",
              "\n",
              "    .dataframe thead th {\n",
              "        text-align: right;\n",
              "    }\n",
              "</style>\n",
              "<table border=\"1\" class=\"dataframe\">\n",
              "  <thead>\n",
              "    <tr style=\"text-align: right;\">\n",
              "      <th></th>\n",
              "      <th>asin</th>\n",
              "      <th>brand</th>\n",
              "      <th>color</th>\n",
              "      <th>large_image_url</th>\n",
              "      <th>product_type_name</th>\n",
              "      <th>title</th>\n",
              "      <th>formatted_price</th>\n",
              "      <th>manufacturer</th>\n",
              "    </tr>\n",
              "  </thead>\n",
              "  <tbody>\n",
              "    <tr>\n",
              "      <th>0</th>\n",
              "      <td>B016I2TS4W</td>\n",
              "      <td>FNC7C</td>\n",
              "      <td>None</td>\n",
              "      <td>https://images-na.ssl-images-amazon.com/images...</td>\n",
              "      <td>SHIRT</td>\n",
              "      <td>Minions Como Superheroes Ironman Long Sleeve R...</td>\n",
              "      <td>None</td>\n",
              "      <td>None</td>\n",
              "    </tr>\n",
              "    <tr>\n",
              "      <th>1</th>\n",
              "      <td>B01N49AI08</td>\n",
              "      <td>FIG Clothing</td>\n",
              "      <td>None</td>\n",
              "      <td>https://images-na.ssl-images-amazon.com/images...</td>\n",
              "      <td>SHIRT</td>\n",
              "      <td>FIG Clothing Womens Izo Tunic</td>\n",
              "      <td>None</td>\n",
              "      <td>None</td>\n",
              "    </tr>\n",
              "    <tr>\n",
              "      <th>2</th>\n",
              "      <td>B01JDPCOHO</td>\n",
              "      <td>FIG Clothing</td>\n",
              "      <td>None</td>\n",
              "      <td>https://images-na.ssl-images-amazon.com/images...</td>\n",
              "      <td>SHIRT</td>\n",
              "      <td>FIG Clothing Womens Won Top</td>\n",
              "      <td>None</td>\n",
              "      <td>None</td>\n",
              "    </tr>\n",
              "    <tr>\n",
              "      <th>3</th>\n",
              "      <td>B01N19U5H5</td>\n",
              "      <td>Focal18</td>\n",
              "      <td>None</td>\n",
              "      <td>https://images-na.ssl-images-amazon.com/images...</td>\n",
              "      <td>SHIRT</td>\n",
              "      <td>Focal18 Sailor Collar Bubble Sleeve Blouse Shi...</td>\n",
              "      <td>None</td>\n",
              "      <td>None</td>\n",
              "    </tr>\n",
              "    <tr>\n",
              "      <th>7</th>\n",
              "      <td>B074GPTP3J</td>\n",
              "      <td>Floerns</td>\n",
              "      <td>None</td>\n",
              "      <td>https://images-na.ssl-images-amazon.com/images...</td>\n",
              "      <td>SHIRT</td>\n",
              "      <td>Floerns Women's Bell Sleeve Beading Casual Blo...</td>\n",
              "      <td>None</td>\n",
              "      <td>None</td>\n",
              "    </tr>\n",
              "  </tbody>\n",
              "</table>\n",
              "</div>"
            ],
            "text/plain": [
              "         asin         brand  ... formatted_price manufacturer\n",
              "0  B016I2TS4W         FNC7C  ...            None         None\n",
              "1  B01N49AI08  FIG Clothing  ...            None         None\n",
              "2  B01JDPCOHO  FIG Clothing  ...            None         None\n",
              "3  B01N19U5H5       Focal18  ...            None         None\n",
              "7  B074GPTP3J       Floerns  ...            None         None\n",
              "\n",
              "[5 rows x 8 columns]"
            ]
          },
          "execution_count": 13,
          "metadata": {
            "tags": []
          },
          "output_type": "execute_result"
        }
      ]
    },
    {
      "cell_type": "code",
      "metadata": {
        "id": "3rX2oE1M0bw1"
      },
      "source": [
        "missing_for_color_manufacturer = data[data['color'].isnull()][data['manufacturer'].isnull()]\n",
        "missing_for_color_price = data[data['color'].isnull()][data['formatted_price'].isnull()]\n",
        "missing_for_manufacturer_price = data[data['manufacturer'].isnull()][data['formatted_price'].isnull()]\n",
        "missing_for_all_cols = data[data['color'].isnull()][data['manufacturer'].isnull()][data['formatted_price'].isnull()]"
      ],
      "execution_count": null,
      "outputs": []
    },
    {
      "cell_type": "code",
      "metadata": {
        "colab": {
          "base_uri": "https://localhost:8080/"
        },
        "id": "eIa1yEr71sSi",
        "outputId": "45be4d7a-5f3b-4bb8-f8e8-f1f368b71d0a"
      },
      "source": [
        "print(\"Number of missing values for color\" , data['color'].isnull().sum())\n",
        "print(\"Number of missing values for manufacturer\" , data['manufacturer'].isnull().sum())\n",
        "print(\"Number of missing values for formatted_price\" , data['formatted_price'].isnull().sum())\n",
        "print()\n",
        "print(\"Number of missing values common between color and manufacturer \" , len(missing_for_color_manufacturer))\n",
        "print(\"Number of missing values common between color and price \" , len(missing_for_color_price))\n",
        "print(\"Number of missing values common between manufacturer and price\" , len(missing_for_manufacturer_price))\n",
        "print(\"Number of missing values common between all three features\" , len(missing_for_all_cols))"
      ],
      "execution_count": null,
      "outputs": [
        {
          "name": "stdout",
          "output_type": "stream",
          "text": [
            "Number of missing values for color 118182\n",
            "Number of missing values for manufacturer 140239\n",
            "Number of missing values for formatted_price 154743\n",
            "\n",
            "Number of missing values common between color and manufacturer  92526\n",
            "Number of missing values common between color and price  118172\n",
            "Number of missing values common between manufacturer and price 120185\n",
            "Number of missing values common between all three features 92518\n"
          ]
        }
      ]
    },
    {
      "cell_type": "code",
      "metadata": {
        "id": "d49BQyCj4PPN"
      },
      "source": [
        "data['color_null'] = np.where(data['color'].isnull() , 1 , 0)"
      ],
      "execution_count": 10,
      "outputs": []
    },
    {
      "cell_type": "code",
      "metadata": {
        "id": "0RUjd_lqvvvk"
      },
      "source": [
        "ratio_of_missing_at_color = data.groupby(['product_type_name'])['color_null'].mean() * 100"
      ],
      "execution_count": null,
      "outputs": []
    },
    {
      "cell_type": "code",
      "metadata": {
        "colab": {
          "base_uri": "https://localhost:8080/"
        },
        "id": "e-rxbg8GwEsE",
        "outputId": "96056e4e-b92a-4484-fbb5-c7b92d179936"
      },
      "source": [
        "ratio_of_missing_at_color[np.argsort(ratio_of_missing_at_color)[::-1]][:25]"
      ],
      "execution_count": null,
      "outputs": [
        {
          "data": {
            "text/plain": [
              "product_type_name\n",
              "WIRELESS_ACCESSORY            100.000000\n",
              "ART_AND_CRAFT_SUPPLY          100.000000\n",
              "ORCA_SHIRT                    100.000000\n",
              "CONSUMER_ELECTRONICS          100.000000\n",
              "PROFESSIONAL_HEALTHCARE       100.000000\n",
              "SEEDS_AND_PLANTS              100.000000\n",
              "HOME_FURNITURE_AND_DECOR      100.000000\n",
              "ABIS_SPORTS                   100.000000\n",
              "HOME_BED_AND_BATH              81.818182\n",
              "SHOES                          80.303030\n",
              "HOME                           76.470588\n",
              "OUTDOOR_RECREATION_PRODUCT     67.764060\n",
              "SHIRT                          67.209197\n",
              "BRA                            63.157895\n",
              "KITCHEN                        60.869565\n",
              "DRESS                          55.492424\n",
              "UNDERWEAR                      54.352941\n",
              "SWIMWEAR                       53.658537\n",
              "SHORTS                         50.000000\n",
              "PET_SUPPLIES                   50.000000\n",
              "SHIRTS                         50.000000\n",
              "BABY_PRODUCT                   50.000000\n",
              "BAG                            50.000000\n",
              "HAT                            50.000000\n",
              "SWEATER                        49.701314\n",
              "Name: color_null, dtype: float64"
            ]
          },
          "execution_count": 18,
          "metadata": {
            "tags": []
          },
          "output_type": "execute_result"
        }
      ]
    },
    {
      "cell_type": "code",
      "metadata": {
        "colab": {
          "base_uri": "https://localhost:8080/"
        },
        "id": "Kwj68jCYx0yo",
        "outputId": "39276e66-fbe2-4ff0-80e5-f33c14f94bec"
      },
      "source": [
        "most_frequent_cat = data['product_type_name'].value_counts()[:25]\n",
        "most_frequent_cat"
      ],
      "execution_count": null,
      "outputs": [
        {
          "data": {
            "text/plain": [
              "SHIRT                          167794\n",
              "APPAREL                          3549\n",
              "BOOKS_1973_AND_LATER             3336\n",
              "DRESS                            1584\n",
              "SPORTING_GOODS                   1281\n",
              "SWEATER                           837\n",
              "OUTERWEAR                         796\n",
              "OUTDOOR_RECREATION_PRODUCT        729\n",
              "ACCESSORY                         636\n",
              "UNDERWEAR                         425\n",
              "PANTS                             363\n",
              "ORCA_SHIRT                        290\n",
              "BLAZER                            249\n",
              "SHOES                             198\n",
              "SLEEPWEAR                         142\n",
              "SKIRT                             107\n",
              "BRA                                95\n",
              "HEALTH_PERSONAL_CARE               92\n",
              "TOYS_AND_GAMES                     80\n",
              "MISC_OTHER                         62\n",
              "AUTO_ACCESSORY                     52\n",
              "KITCHEN                            46\n",
              "SWIMWEAR                           41\n",
              "POWERSPORTS_PROTECTIVE_GEAR        40\n",
              "HOME                               34\n",
              "Name: product_type_name, dtype: int64"
            ]
          },
          "execution_count": 19,
          "metadata": {
            "tags": []
          },
          "output_type": "execute_result"
        }
      ]
    },
    {
      "cell_type": "code",
      "metadata": {
        "id": "qKGp4sahyfQN"
      },
      "source": [
        "t1 = (ratio_of_missing_at_color[np.argsort(ratio_of_missing_at_color)[::-1]][:25]).index"
      ],
      "execution_count": null,
      "outputs": []
    },
    {
      "cell_type": "code",
      "metadata": {
        "id": "20BPgq2u0cwl"
      },
      "source": [
        "intersection_set = list(set(most_frequent_cat.index).intersection(set(t1)))"
      ],
      "execution_count": null,
      "outputs": []
    },
    {
      "cell_type": "code",
      "metadata": {
        "colab": {
          "base_uri": "https://localhost:8080/"
        },
        "id": "WEBSZNQH0vE9",
        "outputId": "b26c40bd-95cb-48d4-d229-a864b170a25e"
      },
      "source": [
        "print(\"Length of intersection\" , len(intersection_set))\n",
        "intersection_set"
      ],
      "execution_count": null,
      "outputs": [
        {
          "name": "stdout",
          "output_type": "stream",
          "text": [
            "Length of intersection 11\n"
          ]
        },
        {
          "data": {
            "text/plain": [
              "['BRA',\n",
              " 'SHOES',\n",
              " 'SWEATER',\n",
              " 'SWIMWEAR',\n",
              " 'HOME',\n",
              " 'UNDERWEAR',\n",
              " 'DRESS',\n",
              " 'ORCA_SHIRT',\n",
              " 'KITCHEN',\n",
              " 'OUTDOOR_RECREATION_PRODUCT',\n",
              " 'SHIRT']"
            ]
          },
          "execution_count": 22,
          "metadata": {
            "tags": []
          },
          "output_type": "execute_result"
        }
      ]
    },
    {
      "cell_type": "markdown",
      "metadata": {
        "id": "4aF6J1IL3SiU"
      },
      "source": [
        "The most interesting thing is between manufacturer and price, we can see that about 120K out of 183K are common.\n",
        "\n",
        "for the other pair for example between color and price there is also about 118K more or less out of 183K.\n",
        "\n",
        "There is a chance that Amazon does not want to provide the data of price for some colthes.\n",
        "\n",
        "some manufacturer also order to block this information as term of policy or any other reason.\n",
        "\n",
        "So for the best call we should dig deep in the way the data were collected in order to decide if the missing here not at random or at random which is difficult thing to achive here.\n",
        "\n",
        "The actual problem here is that this 3 features contain a lot of categories for each one individually, if not we could make further analysis to know the missing value came for which category of the opposite one as kind of try to detect where was the data actually happend.\n",
        "\n",
        "I could safely assume that missing data here could not be completely at ranodm, it either belong to MAR or MNAR, as it's safer to assume that misisng values type belong to MAR than MCAR.\n",
        "\n",
        "But to identify if data MNAR it's a little bit more difficult here.\n",
        "\n",
        "We can coclude that missing values here don't happedn at random completely, because of the connection if missingness between those features and the fact that fron the last few cells missing values happend completely for some categories 11 of of them are from the top 25 categories, so the fact that for example SHIRT category which consist of about 167K out of 183K has 67% of missing value for color feature leaving us with the conclusion that this missing in data happed for a reason.\n",
        "\n",
        "To end this long run here is 3 ways to deal wtih thoose missing value:\n",
        "\n",
        "1- Impute them.\n",
        "\n",
        "2- Drop the columns.\n",
        "\n",
        "3- Drop the rows.\n",
        "\n",
        "We can't use Imputing method in it's diffrent techinques unless we are very sure that the missing data is missing at random and only at random, if the data is missing not at ranodm that will cause a bias in data and corrupt the distribution of features.\n",
        "\n",
        "Dropping the rows used usually when number of observation is not high and when the data is missing completely at random but here if we use this method then we remove about 160K of data which leave us with only about 28K.\n",
        "\n",
        "There is a rule of thumb that say if variable contain more than 60-70% precent of missing data and the variable is not really informative and important then it's better to drop this variable out of the analysis.\n",
        "\n",
        "from the fact that title and images are the most informative features we shall remove our 3 features rather than droping about 160K rows which is here a big loose.\n",
        "\n",
        "For a brand feature we are good to remove rows containig missing values because they are just 151 out of 183K so dropping them will not be a big deal."
      ]
    },
    {
      "cell_type": "code",
      "metadata": {
        "id": "qCU9ylKk4eAU"
      },
      "source": [
        "data.drop(['color' , 'formatted_price'\t, 'manufacturer'] , axis = 1 , inplace = True)"
      ],
      "execution_count": 11,
      "outputs": []
    },
    {
      "cell_type": "code",
      "metadata": {
        "colab": {
          "base_uri": "https://localhost:8080/"
        },
        "id": "osj6t9Tu4vSk",
        "outputId": "e41ed297-c8a9-49c0-aabd-8a83b6139bc6"
      },
      "source": [
        "print(\"Number of rows in data after first processing =\", data.shape[0])\n",
        "print(\"Number of columns in data after first processing =\", data.shape[1])"
      ],
      "execution_count": 16,
      "outputs": [
        {
          "output_type": "stream",
          "name": "stdout",
          "text": [
            "Number of rows in data after first processing = 182987\n",
            "Number of columns in data after first processing = 6\n"
          ]
        }
      ]
    },
    {
      "cell_type": "code",
      "metadata": {
        "colab": {
          "base_uri": "https://localhost:8080/"
        },
        "id": "ykf4_E4646Mq",
        "outputId": "484999e4-531b-4252-b42b-95d9cec2829d"
      },
      "source": [
        "data.head()"
      ],
      "execution_count": null,
      "outputs": [
        {
          "data": {
            "text/html": [
              "<div>\n",
              "<style scoped>\n",
              "    .dataframe tbody tr th:only-of-type {\n",
              "        vertical-align: middle;\n",
              "    }\n",
              "\n",
              "    .dataframe tbody tr th {\n",
              "        vertical-align: top;\n",
              "    }\n",
              "\n",
              "    .dataframe thead th {\n",
              "        text-align: right;\n",
              "    }\n",
              "</style>\n",
              "<table border=\"1\" class=\"dataframe\">\n",
              "  <thead>\n",
              "    <tr style=\"text-align: right;\">\n",
              "      <th></th>\n",
              "      <th>asin</th>\n",
              "      <th>brand</th>\n",
              "      <th>large_image_url</th>\n",
              "      <th>product_type_name</th>\n",
              "      <th>title</th>\n",
              "      <th>color_null</th>\n",
              "    </tr>\n",
              "  </thead>\n",
              "  <tbody>\n",
              "    <tr>\n",
              "      <th>0</th>\n",
              "      <td>B016I2TS4W</td>\n",
              "      <td>FNC7C</td>\n",
              "      <td>https://images-na.ssl-images-amazon.com/images...</td>\n",
              "      <td>SHIRT</td>\n",
              "      <td>Minions Como Superheroes Ironman Long Sleeve R...</td>\n",
              "      <td>1</td>\n",
              "    </tr>\n",
              "    <tr>\n",
              "      <th>1</th>\n",
              "      <td>B01N49AI08</td>\n",
              "      <td>FIG Clothing</td>\n",
              "      <td>https://images-na.ssl-images-amazon.com/images...</td>\n",
              "      <td>SHIRT</td>\n",
              "      <td>FIG Clothing Womens Izo Tunic</td>\n",
              "      <td>1</td>\n",
              "    </tr>\n",
              "    <tr>\n",
              "      <th>2</th>\n",
              "      <td>B01JDPCOHO</td>\n",
              "      <td>FIG Clothing</td>\n",
              "      <td>https://images-na.ssl-images-amazon.com/images...</td>\n",
              "      <td>SHIRT</td>\n",
              "      <td>FIG Clothing Womens Won Top</td>\n",
              "      <td>1</td>\n",
              "    </tr>\n",
              "    <tr>\n",
              "      <th>3</th>\n",
              "      <td>B01N19U5H5</td>\n",
              "      <td>Focal18</td>\n",
              "      <td>https://images-na.ssl-images-amazon.com/images...</td>\n",
              "      <td>SHIRT</td>\n",
              "      <td>Focal18 Sailor Collar Bubble Sleeve Blouse Shi...</td>\n",
              "      <td>1</td>\n",
              "    </tr>\n",
              "    <tr>\n",
              "      <th>4</th>\n",
              "      <td>B004GSI2OS</td>\n",
              "      <td>FeatherLite</td>\n",
              "      <td>https://images-na.ssl-images-amazon.com/images...</td>\n",
              "      <td>SHIRT</td>\n",
              "      <td>Featherlite Ladies' Long Sleeve Stain Resistan...</td>\n",
              "      <td>0</td>\n",
              "    </tr>\n",
              "  </tbody>\n",
              "</table>\n",
              "</div>"
            ],
            "text/plain": [
              "         asin  ... color_null\n",
              "0  B016I2TS4W  ...          1\n",
              "1  B01N49AI08  ...          1\n",
              "2  B01JDPCOHO  ...          1\n",
              "3  B01N19U5H5  ...          1\n",
              "4  B004GSI2OS  ...          0\n",
              "\n",
              "[5 rows x 6 columns]"
            ]
          },
          "execution_count": 25,
          "metadata": {
            "tags": []
          },
          "output_type": "execute_result"
        }
      ]
    },
    {
      "cell_type": "code",
      "metadata": {
        "colab": {
          "base_uri": "https://localhost:8080/"
        },
        "id": "MWw0qHKC484e",
        "outputId": "b58b926f-6f77-4043-d2c9-343a77025640"
      },
      "source": [
        "data.isnull().sum()"
      ],
      "execution_count": null,
      "outputs": [
        {
          "data": {
            "text/plain": [
              "asin                   0\n",
              "brand                151\n",
              "large_image_url        0\n",
              "product_type_name      0\n",
              "title                  0\n",
              "color_null             0\n",
              "dtype: int64"
            ]
          },
          "execution_count": 26,
          "metadata": {
            "tags": []
          },
          "output_type": "execute_result"
        }
      ]
    },
    {
      "cell_type": "code",
      "metadata": {
        "id": "erfPGfI15Bya"
      },
      "source": [
        "data.dropna(axis = 0 , subset = ['brand'] , inplace = True)"
      ],
      "execution_count": 14,
      "outputs": []
    },
    {
      "cell_type": "code",
      "metadata": {
        "colab": {
          "base_uri": "https://localhost:8080/"
        },
        "id": "yI0MZvQ25Hy1",
        "outputId": "9b152669-2820-48fa-acad-44f15407d450"
      },
      "source": [
        "print(\"Number of rows in data after second processing =\", data.shape[0])\n",
        "print(\"Number of columns in data after second processing =\", data.shape[1])"
      ],
      "execution_count": 17,
      "outputs": [
        {
          "output_type": "stream",
          "name": "stdout",
          "text": [
            "Number of rows in data after second processing = 182987\n",
            "Number of columns in data after second processing = 6\n"
          ]
        }
      ]
    },
    {
      "cell_type": "code",
      "metadata": {
        "colab": {
          "base_uri": "https://localhost:8080/"
        },
        "id": "lSOA3ECT5JWi",
        "outputId": "6ec4abe4-867e-4971-b645-cb570b05d9d8"
      },
      "source": [
        "data.isnull().sum()"
      ],
      "execution_count": null,
      "outputs": [
        {
          "data": {
            "text/plain": [
              "asin                 0\n",
              "brand                0\n",
              "large_image_url      0\n",
              "product_type_name    0\n",
              "title                0\n",
              "color_null           0\n",
              "dtype: int64"
            ]
          },
          "execution_count": 29,
          "metadata": {
            "tags": []
          },
          "output_type": "execute_result"
        }
      ]
    },
    {
      "cell_type": "code",
      "metadata": {
        "id": "IqWq0IRj50PW"
      },
      "source": [
        "# Run this cell if you want to save data at this stage\n",
        "data.to_pickle('pickle_files/data')"
      ],
      "execution_count": null,
      "outputs": []
    }
  ]
}