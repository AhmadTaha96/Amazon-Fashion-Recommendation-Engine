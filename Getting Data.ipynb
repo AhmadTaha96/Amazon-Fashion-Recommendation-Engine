{
  "nbformat": 4,
  "nbformat_minor": 0,
  "metadata": {
    "colab": {
      "name": "Getting Data.ipynb",
      "provenance": [],
      "collapsed_sections": [
        "6_tVzfpvzs8-",
        "EmD-PVfF25EN"
      ],
      "mount_file_id": "1TsqgFV5TmK1kZxpwCKBszbKYZ-JCKCgl",
      "authorship_tag": "ABX9TyPLZihTtK6/0q5S2+kGy55n"
    },
    "kernelspec": {
      "name": "python3",
      "display_name": "Python 3"
    },
    "language_info": {
      "name": "python"
    }
  },
  "cells": [
    {
      "cell_type": "markdown",
      "metadata": {
        "id": "6_tVzfpvzs8-"
      },
      "source": [
        "# Importing Libraries"
      ]
    },
    {
      "cell_type": "code",
      "metadata": {
        "id": "_0Ogvim6zvDz"
      },
      "source": [
        "import pandas as pd\n",
        "import numpy as np\n",
        "import matplotlib.pyplot as plt\n",
        "import requests\n",
        "import os\n",
        "import shutil"
      ],
      "execution_count": 2,
      "outputs": []
    },
    {
      "cell_type": "markdown",
      "metadata": {
        "id": "EmD-PVfF25EN"
      },
      "source": [
        "# Reading Data"
      ]
    },
    {
      "cell_type": "code",
      "metadata": {
        "id": "HULM990g3Ax9"
      },
      "source": [
        "data = pd.read_json(\"tops_fashion.json\")"
      ],
      "execution_count": 9,
      "outputs": []
    },
    {
      "cell_type": "code",
      "metadata": {
        "colab": {
          "base_uri": "https://localhost:8080/"
        },
        "id": "ydwwKVFe3sRs",
        "outputId": "2ac5fc42-2be0-4d7c-be74-70a7d0566516"
      },
      "source": [
        "print(\"Number of rows in data file\", data.shape[0])\n",
        "print(\"Number of columns in data file\", data.shape[1])"
      ],
      "execution_count": 10,
      "outputs": [
        {
          "output_type": "stream",
          "name": "stdout",
          "text": [
            "Number of rows in data file 183138\n",
            "Number of columns in data file 19\n"
          ]
        }
      ]
    },
    {
      "cell_type": "code",
      "metadata": {
        "colab": {
          "base_uri": "https://localhost:8080/",
          "height": 496
        },
        "id": "acG5HMzh8jyN",
        "outputId": "937abfca-21d2-49e7-85f3-bf15a1dc5e36"
      },
      "source": [
        "data.head(5)"
      ],
      "execution_count": 11,
      "outputs": [
        {
          "output_type": "execute_result",
          "data": {
            "text/html": [
              "<div>\n",
              "<style scoped>\n",
              "    .dataframe tbody tr th:only-of-type {\n",
              "        vertical-align: middle;\n",
              "    }\n",
              "\n",
              "    .dataframe tbody tr th {\n",
              "        vertical-align: top;\n",
              "    }\n",
              "\n",
              "    .dataframe thead th {\n",
              "        text-align: right;\n",
              "    }\n",
              "</style>\n",
              "<table border=\"1\" class=\"dataframe\">\n",
              "  <thead>\n",
              "    <tr style=\"text-align: right;\">\n",
              "      <th></th>\n",
              "      <th>sku</th>\n",
              "      <th>asin</th>\n",
              "      <th>product_type_name</th>\n",
              "      <th>formatted_price</th>\n",
              "      <th>author</th>\n",
              "      <th>color</th>\n",
              "      <th>brand</th>\n",
              "      <th>publisher</th>\n",
              "      <th>availability</th>\n",
              "      <th>reviews</th>\n",
              "      <th>large_image_url</th>\n",
              "      <th>availability_type</th>\n",
              "      <th>small_image_url</th>\n",
              "      <th>editorial_review</th>\n",
              "      <th>title</th>\n",
              "      <th>model</th>\n",
              "      <th>medium_image_url</th>\n",
              "      <th>manufacturer</th>\n",
              "      <th>editorial_reivew</th>\n",
              "    </tr>\n",
              "  </thead>\n",
              "  <tbody>\n",
              "    <tr>\n",
              "      <th>0</th>\n",
              "      <td>None</td>\n",
              "      <td>B016I2TS4W</td>\n",
              "      <td>SHIRT</td>\n",
              "      <td>None</td>\n",
              "      <td>None</td>\n",
              "      <td>None</td>\n",
              "      <td>FNC7C</td>\n",
              "      <td>None</td>\n",
              "      <td>None</td>\n",
              "      <td>[False, https://www.amazon.com/reviews/iframe?...</td>\n",
              "      <td>https://images-na.ssl-images-amazon.com/images...</td>\n",
              "      <td>None</td>\n",
              "      <td>https://images-na.ssl-images-amazon.com/images...</td>\n",
              "      <td>Minions Como Superheroes Ironman Women's O Nec...</td>\n",
              "      <td>Minions Como Superheroes Ironman Long Sleeve R...</td>\n",
              "      <td>None</td>\n",
              "      <td>https://images-na.ssl-images-amazon.com/images...</td>\n",
              "      <td>None</td>\n",
              "      <td>NaN</td>\n",
              "    </tr>\n",
              "    <tr>\n",
              "      <th>1</th>\n",
              "      <td>None</td>\n",
              "      <td>B01N49AI08</td>\n",
              "      <td>SHIRT</td>\n",
              "      <td>None</td>\n",
              "      <td>None</td>\n",
              "      <td>None</td>\n",
              "      <td>FIG Clothing</td>\n",
              "      <td>None</td>\n",
              "      <td>None</td>\n",
              "      <td>[False, https://www.amazon.com/reviews/iframe?...</td>\n",
              "      <td>https://images-na.ssl-images-amazon.com/images...</td>\n",
              "      <td>None</td>\n",
              "      <td>https://images-na.ssl-images-amazon.com/images...</td>\n",
              "      <td>Sizing runs on the small side. FIG® recommends...</td>\n",
              "      <td>FIG Clothing Womens Izo Tunic</td>\n",
              "      <td>None</td>\n",
              "      <td>https://images-na.ssl-images-amazon.com/images...</td>\n",
              "      <td>None</td>\n",
              "      <td>NaN</td>\n",
              "    </tr>\n",
              "    <tr>\n",
              "      <th>2</th>\n",
              "      <td>None</td>\n",
              "      <td>B01JDPCOHO</td>\n",
              "      <td>SHIRT</td>\n",
              "      <td>None</td>\n",
              "      <td>None</td>\n",
              "      <td>None</td>\n",
              "      <td>FIG Clothing</td>\n",
              "      <td>None</td>\n",
              "      <td>None</td>\n",
              "      <td>[False, https://www.amazon.com/reviews/iframe?...</td>\n",
              "      <td>https://images-na.ssl-images-amazon.com/images...</td>\n",
              "      <td>None</td>\n",
              "      <td>https://images-na.ssl-images-amazon.com/images...</td>\n",
              "      <td>Sizing runs on the small side. FIG® recommends...</td>\n",
              "      <td>FIG Clothing Womens Won Top</td>\n",
              "      <td>None</td>\n",
              "      <td>https://images-na.ssl-images-amazon.com/images...</td>\n",
              "      <td>None</td>\n",
              "      <td>NaN</td>\n",
              "    </tr>\n",
              "    <tr>\n",
              "      <th>3</th>\n",
              "      <td>None</td>\n",
              "      <td>B01N19U5H5</td>\n",
              "      <td>SHIRT</td>\n",
              "      <td>None</td>\n",
              "      <td>None</td>\n",
              "      <td>None</td>\n",
              "      <td>Focal18</td>\n",
              "      <td>None</td>\n",
              "      <td>None</td>\n",
              "      <td>[True, https://www.amazon.com/reviews/iframe?a...</td>\n",
              "      <td>https://images-na.ssl-images-amazon.com/images...</td>\n",
              "      <td>None</td>\n",
              "      <td>https://images-na.ssl-images-amazon.com/images...</td>\n",
              "      <td>100% Brand New &amp; Fashion&lt;br&gt; Quantity: 1 Piece...</td>\n",
              "      <td>Focal18 Sailor Collar Bubble Sleeve Blouse Shi...</td>\n",
              "      <td>None</td>\n",
              "      <td>https://images-na.ssl-images-amazon.com/images...</td>\n",
              "      <td>None</td>\n",
              "      <td>NaN</td>\n",
              "    </tr>\n",
              "    <tr>\n",
              "      <th>4</th>\n",
              "      <td>None</td>\n",
              "      <td>B004GSI2OS</td>\n",
              "      <td>SHIRT</td>\n",
              "      <td>$26.26</td>\n",
              "      <td>None</td>\n",
              "      <td>Onyx Black/ Stone</td>\n",
              "      <td>FeatherLite</td>\n",
              "      <td>None</td>\n",
              "      <td>Usually ships in 6-10 business days</td>\n",
              "      <td>[False, https://www.amazon.com/reviews/iframe?...</td>\n",
              "      <td>https://images-na.ssl-images-amazon.com/images...</td>\n",
              "      <td>now</td>\n",
              "      <td>https://images-na.ssl-images-amazon.com/images...</td>\n",
              "      <td></td>\n",
              "      <td>Featherlite Ladies' Long Sleeve Stain Resistan...</td>\n",
              "      <td>None</td>\n",
              "      <td>https://images-na.ssl-images-amazon.com/images...</td>\n",
              "      <td>None</td>\n",
              "      <td>NaN</td>\n",
              "    </tr>\n",
              "  </tbody>\n",
              "</table>\n",
              "</div>"
            ],
            "text/plain": [
              "    sku        asin  ... manufacturer editorial_reivew\n",
              "0  None  B016I2TS4W  ...         None              NaN\n",
              "1  None  B01N49AI08  ...         None              NaN\n",
              "2  None  B01JDPCOHO  ...         None              NaN\n",
              "3  None  B01N19U5H5  ...         None              NaN\n",
              "4  None  B004GSI2OS  ...         None              NaN\n",
              "\n",
              "[5 rows x 19 columns]"
            ]
          },
          "metadata": {},
          "execution_count": 11
        }
      ]
    },
    {
      "cell_type": "code",
      "metadata": {
        "id": "E1KbkcSd8iQG"
      },
      "source": [
        "data = data[[\"asin\" , \"brand\" , \"color\" , \"large_image_url\" , \"product_type_name\" , \"title\" , \"formatted_price\" , \"manufacturer\"]]"
      ],
      "execution_count": 12,
      "outputs": []
    },
    {
      "cell_type": "code",
      "metadata": {
        "colab": {
          "base_uri": "https://localhost:8080/"
        },
        "id": "zIsujLhl8myj",
        "outputId": "5c056447-2236-4c4f-cd69-95340169435d"
      },
      "source": [
        "print(\"Number of rows in data file\", data.shape[0])\n",
        "print(\"Number of columns in data file after removing some features\", data.shape[1])"
      ],
      "execution_count": 13,
      "outputs": [
        {
          "output_type": "stream",
          "name": "stdout",
          "text": [
            "Number of rows in data file 183138\n",
            "Number of columns in data file after removing some features 8\n"
          ]
        }
      ]
    },
    {
      "cell_type": "code",
      "metadata": {
        "colab": {
          "base_uri": "https://localhost:8080/",
          "height": 563
        },
        "id": "SqqbFvOc46HV",
        "outputId": "6e3bbf3f-726b-46cc-98cc-43274741925d"
      },
      "source": [
        "data.head(10)"
      ],
      "execution_count": 14,
      "outputs": [
        {
          "output_type": "execute_result",
          "data": {
            "text/html": [
              "<div>\n",
              "<style scoped>\n",
              "    .dataframe tbody tr th:only-of-type {\n",
              "        vertical-align: middle;\n",
              "    }\n",
              "\n",
              "    .dataframe tbody tr th {\n",
              "        vertical-align: top;\n",
              "    }\n",
              "\n",
              "    .dataframe thead th {\n",
              "        text-align: right;\n",
              "    }\n",
              "</style>\n",
              "<table border=\"1\" class=\"dataframe\">\n",
              "  <thead>\n",
              "    <tr style=\"text-align: right;\">\n",
              "      <th></th>\n",
              "      <th>asin</th>\n",
              "      <th>brand</th>\n",
              "      <th>color</th>\n",
              "      <th>large_image_url</th>\n",
              "      <th>product_type_name</th>\n",
              "      <th>title</th>\n",
              "      <th>formatted_price</th>\n",
              "      <th>manufacturer</th>\n",
              "    </tr>\n",
              "  </thead>\n",
              "  <tbody>\n",
              "    <tr>\n",
              "      <th>0</th>\n",
              "      <td>B016I2TS4W</td>\n",
              "      <td>FNC7C</td>\n",
              "      <td>None</td>\n",
              "      <td>https://images-na.ssl-images-amazon.com/images...</td>\n",
              "      <td>SHIRT</td>\n",
              "      <td>Minions Como Superheroes Ironman Long Sleeve R...</td>\n",
              "      <td>None</td>\n",
              "      <td>None</td>\n",
              "    </tr>\n",
              "    <tr>\n",
              "      <th>1</th>\n",
              "      <td>B01N49AI08</td>\n",
              "      <td>FIG Clothing</td>\n",
              "      <td>None</td>\n",
              "      <td>https://images-na.ssl-images-amazon.com/images...</td>\n",
              "      <td>SHIRT</td>\n",
              "      <td>FIG Clothing Womens Izo Tunic</td>\n",
              "      <td>None</td>\n",
              "      <td>None</td>\n",
              "    </tr>\n",
              "    <tr>\n",
              "      <th>2</th>\n",
              "      <td>B01JDPCOHO</td>\n",
              "      <td>FIG Clothing</td>\n",
              "      <td>None</td>\n",
              "      <td>https://images-na.ssl-images-amazon.com/images...</td>\n",
              "      <td>SHIRT</td>\n",
              "      <td>FIG Clothing Womens Won Top</td>\n",
              "      <td>None</td>\n",
              "      <td>None</td>\n",
              "    </tr>\n",
              "    <tr>\n",
              "      <th>3</th>\n",
              "      <td>B01N19U5H5</td>\n",
              "      <td>Focal18</td>\n",
              "      <td>None</td>\n",
              "      <td>https://images-na.ssl-images-amazon.com/images...</td>\n",
              "      <td>SHIRT</td>\n",
              "      <td>Focal18 Sailor Collar Bubble Sleeve Blouse Shi...</td>\n",
              "      <td>None</td>\n",
              "      <td>None</td>\n",
              "    </tr>\n",
              "    <tr>\n",
              "      <th>4</th>\n",
              "      <td>B004GSI2OS</td>\n",
              "      <td>FeatherLite</td>\n",
              "      <td>Onyx Black/ Stone</td>\n",
              "      <td>https://images-na.ssl-images-amazon.com/images...</td>\n",
              "      <td>SHIRT</td>\n",
              "      <td>Featherlite Ladies' Long Sleeve Stain Resistan...</td>\n",
              "      <td>$26.26</td>\n",
              "      <td>None</td>\n",
              "    </tr>\n",
              "    <tr>\n",
              "      <th>5</th>\n",
              "      <td>B00TAEHGGS</td>\n",
              "      <td>Fitscloth</td>\n",
              "      <td>Grape</td>\n",
              "      <td>https://images-na.ssl-images-amazon.com/images...</td>\n",
              "      <td>SHIRT</td>\n",
              "      <td>[Fits Cloth] Grape Solid Modern Long Sleeve Pl...</td>\n",
              "      <td>None</td>\n",
              "      <td>None</td>\n",
              "    </tr>\n",
              "    <tr>\n",
              "      <th>6</th>\n",
              "      <td>B012YX2ZPI</td>\n",
              "      <td>HX-Kingdom Fashion T-shirts</td>\n",
              "      <td>White</td>\n",
              "      <td>https://images-na.ssl-images-amazon.com/images...</td>\n",
              "      <td>SHIRT</td>\n",
              "      <td>Women's Unique 100% Cotton T - Special Olympic...</td>\n",
              "      <td>$9.99</td>\n",
              "      <td>None</td>\n",
              "    </tr>\n",
              "    <tr>\n",
              "      <th>7</th>\n",
              "      <td>B074GPTP3J</td>\n",
              "      <td>Floerns</td>\n",
              "      <td>None</td>\n",
              "      <td>https://images-na.ssl-images-amazon.com/images...</td>\n",
              "      <td>SHIRT</td>\n",
              "      <td>Floerns Women's Bell Sleeve Beading Casual Blo...</td>\n",
              "      <td>None</td>\n",
              "      <td>None</td>\n",
              "    </tr>\n",
              "    <tr>\n",
              "      <th>8</th>\n",
              "      <td>B06Y2LCC5S</td>\n",
              "      <td>Fashion2ne1</td>\n",
              "      <td>Black</td>\n",
              "      <td>https://images-na.ssl-images-amazon.com/images...</td>\n",
              "      <td>SHIRT</td>\n",
              "      <td>Standing on His Promises Rhinestones T-Shirt R...</td>\n",
              "      <td>None</td>\n",
              "      <td>None</td>\n",
              "    </tr>\n",
              "    <tr>\n",
              "      <th>9</th>\n",
              "      <td>B00T9W4E66</td>\n",
              "      <td>Fila</td>\n",
              "      <td>None</td>\n",
              "      <td>https://images-na.ssl-images-amazon.com/images...</td>\n",
              "      <td>SHIRT</td>\n",
              "      <td>Fila Women's Tulip Durable Tennis Style Comfor...</td>\n",
              "      <td>None</td>\n",
              "      <td>None</td>\n",
              "    </tr>\n",
              "  </tbody>\n",
              "</table>\n",
              "</div>"
            ],
            "text/plain": [
              "         asin                        brand  ... formatted_price manufacturer\n",
              "0  B016I2TS4W                        FNC7C  ...            None         None\n",
              "1  B01N49AI08                 FIG Clothing  ...            None         None\n",
              "2  B01JDPCOHO                 FIG Clothing  ...            None         None\n",
              "3  B01N19U5H5                      Focal18  ...            None         None\n",
              "4  B004GSI2OS                  FeatherLite  ...          $26.26         None\n",
              "5  B00TAEHGGS                    Fitscloth  ...            None         None\n",
              "6  B012YX2ZPI  HX-Kingdom Fashion T-shirts  ...           $9.99         None\n",
              "7  B074GPTP3J                      Floerns  ...            None         None\n",
              "8  B06Y2LCC5S                  Fashion2ne1  ...            None         None\n",
              "9  B00T9W4E66                         Fila  ...            None         None\n",
              "\n",
              "[10 rows x 8 columns]"
            ]
          },
          "metadata": {},
          "execution_count": 14
        }
      ]
    },
    {
      "cell_type": "markdown",
      "metadata": {
        "id": "Lw8LicLl7DIv"
      },
      "source": [
        "It appear that a lot of data in previous columns contain None value which is not NaN but it might mean that this column might not give a lot of information to us or the opposite as we shall see when we process the data later on."
      ]
    },
    {
      "cell_type": "markdown",
      "metadata": {
        "id": "ZNEj5jrb53xk"
      },
      "source": [
        "Here we should download the images first from Amazon servers, but it look like that some of images are corrupter so we need to deal with this issue first."
      ]
    },
    {
      "cell_type": "code",
      "metadata": {
        "id": "Ifi5VWjLYRgz"
      },
      "source": [
        "m = data.large_image_url.values\n",
        "not_found = []\n",
        "\n",
        "for i in range(len(m)):\n",
        "  \n",
        "  try:\n",
        "    url = data['large_image_url'].iloc[i]\n",
        "    asin = data['asin'].iloc[i]\n",
        "    response = requests.get(url)\n",
        "    img = Image.open(BytesIO(response.content))\n",
        "    # Create folder to save images in\n",
        "    img.save(\"images/\" + asin + \".jpeg\")\n",
        "  \n",
        "  except:\n",
        "    not_found.append(i)"
      ],
      "execution_count": null,
      "outputs": []
    }
  ]
}